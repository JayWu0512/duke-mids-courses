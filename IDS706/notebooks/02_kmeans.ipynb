{
 "cells": [
  {
   "cell_type": "code",
   "execution_count": null,
   "id": "3dd6de98",
   "metadata": {},
   "outputs": [
    {
     "name": "stdout",
     "output_type": "stream",
     "text": [
      "polars: 1.33.0\n"
     ]
    }
   ],
   "source": [
    "# Basic imports\n",
    "from pathlib import Path\n",
    "import polars as pl\n",
    "import numpy as np\n",
    "import matplotlib.pyplot as plt\n",
    "\n",
    "print(\"polars:\", pl.__version__)"
   ]
  },
  {
   "cell_type": "code",
   "execution_count": null,
   "id": "847ab10e",
   "metadata": {},
   "outputs": [
    {
     "name": "stdout",
     "output_type": "stream",
     "text": [
      "Columns: ['title_lc', 'company', 'location', 'seniority', 'work_type', 'posted_at', 'skills_list', 'text']\n",
      "Shape: (13420, 8)\n"
     ]
    },
    {
     "data": {
      "text/html": [
       "<div><style>\n",
       ".dataframe > thead > tr,\n",
       ".dataframe > tbody > tr {\n",
       "  text-align: right;\n",
       "  white-space: pre-wrap;\n",
       "}\n",
       "</style>\n",
       "<small>shape: (3, 8)</small><table border=\"1\" class=\"dataframe\"><thead><tr><th>title_lc</th><th>company</th><th>location</th><th>seniority</th><th>work_type</th><th>posted_at</th><th>skills_list</th><th>text</th></tr><tr><td>str</td><td>str</td><td>str</td><td>str</td><td>str</td><td>datetime[μs]</td><td>list[str]</td><td>str</td></tr></thead><tbody><tr><td>&quot;senior software engineer - bac…</td><td>&quot;Walmart&quot;</td><td>&quot;Reston, VA&quot;</td><td>&quot;Mid senior&quot;</td><td>&quot;Onsite&quot;</td><td>2024-01-15 00:00:00</td><td>[]</td><td>&quot;senior software engineer - bac…</td></tr><tr><td>&quot;lead software engineer, back e…</td><td>&quot;ClickJobs.io&quot;</td><td>&quot;Poughkeepsie, NY&quot;</td><td>&quot;Mid senior&quot;</td><td>&quot;Onsite&quot;</td><td>2024-01-14 00:00:00</td><td>[]</td><td>&quot;lead software engineer, back e…</td></tr><tr><td>&quot;asset &amp; wealth management- sen…</td><td>&quot;Goldman Sachs&quot;</td><td>&quot;New York, NY&quot;</td><td>&quot;Mid senior&quot;</td><td>&quot;Onsite&quot;</td><td>2024-01-15 00:00:00</td><td>[]</td><td>&quot;asset &amp; wealth management- sen…</td></tr></tbody></table></div>"
      ],
      "text/plain": [
       "shape: (3, 8)\n",
       "┌────────────┬────────────┬────────────┬───────────┬───────────┬───────────┬───────────┬───────────┐\n",
       "│ title_lc   ┆ company    ┆ location   ┆ seniority ┆ work_type ┆ posted_at ┆ skills_li ┆ text      │\n",
       "│ ---        ┆ ---        ┆ ---        ┆ ---       ┆ ---       ┆ ---       ┆ st        ┆ ---       │\n",
       "│ str        ┆ str        ┆ str        ┆ str       ┆ str       ┆ datetime[ ┆ ---       ┆ str       │\n",
       "│            ┆            ┆            ┆           ┆           ┆ μs]       ┆ list[str] ┆           │\n",
       "╞════════════╪════════════╪════════════╪═══════════╪═══════════╪═══════════╪═══════════╪═══════════╡\n",
       "│ senior     ┆ Walmart    ┆ Reston, VA ┆ Mid       ┆ Onsite    ┆ 2024-01-1 ┆ []        ┆ senior    │\n",
       "│ software   ┆            ┆            ┆ senior    ┆           ┆ 5         ┆           ┆ software  │\n",
       "│ engineer - ┆            ┆            ┆           ┆           ┆ 00:00:00  ┆           ┆ engineer  │\n",
       "│ bac…       ┆            ┆            ┆           ┆           ┆           ┆           ┆ - bac…    │\n",
       "│ lead       ┆ ClickJobs. ┆ Poughkeeps ┆ Mid       ┆ Onsite    ┆ 2024-01-1 ┆ []        ┆ lead      │\n",
       "│ software   ┆ io         ┆ ie, NY     ┆ senior    ┆           ┆ 4         ┆           ┆ software  │\n",
       "│ engineer,  ┆            ┆            ┆           ┆           ┆ 00:00:00  ┆           ┆ engineer, │\n",
       "│ back e…    ┆            ┆            ┆           ┆           ┆           ┆           ┆ back e…   │\n",
       "│ asset &    ┆ Goldman    ┆ New York,  ┆ Mid       ┆ Onsite    ┆ 2024-01-1 ┆ []        ┆ asset &   │\n",
       "│ wealth man ┆ Sachs      ┆ NY         ┆ senior    ┆           ┆ 5         ┆           ┆ wealth    │\n",
       "│ agement-   ┆            ┆            ┆           ┆           ┆ 00:00:00  ┆           ┆ managemen │\n",
       "│ sen…       ┆            ┆            ┆           ┆           ┆           ┆           ┆ t- sen…   │\n",
       "└────────────┴────────────┴────────────┴───────────┴───────────┴───────────┴───────────┴───────────┘"
      ]
     },
     "execution_count": 2,
     "metadata": {},
     "output_type": "execute_result"
    }
   ],
   "source": [
    "# Paths (this notebook is in notebooks/, so root is ..)\n",
    "ROOT = Path(\"..\")\n",
    "SILVER = ROOT / \"data\" / \"silver\" / \"jobs_text.parquet\"\n",
    "GOLD = ROOT / \"data\" / \"gold\"\n",
    "\n",
    "lf = pl.scan_parquet(SILVER)\n",
    "print(\"Columns:\", lf.collect_schema().names())\n",
    "\n",
    "# For faster iteration, sample head N; set to None to use all rows\n",
    "SAMPLE_N = 150_000  # adjust to what your memory allows; or set None\n",
    "df = (lf.head(SAMPLE_N) if SAMPLE_N else lf).collect()\n",
    "print(\"Shape:\", df.shape)\n",
    "df.head(3)"
   ]
  },
  {
   "cell_type": "code",
   "execution_count": null,
   "id": "1aa40b7d",
   "metadata": {},
   "outputs": [
    {
     "name": "stdout",
     "output_type": "stream",
     "text": [
      "Empty texts: 0\n",
      "Texts <= 30 chars: 5328\n",
      "After drop empty: (13420, 8)\n"
     ]
    }
   ],
   "source": [
    "# How many empty/very short texts?\n",
    "lengths = df.select((pl.col(\"text\").str.len_chars()).alias(\"len\")).to_series()\n",
    "print(\"Empty texts:\", int((lengths == 0).sum()))\n",
    "print(\"Texts <= 30 chars:\", int((lengths <= 30).sum()))\n",
    "\n",
    "# Drop rows with empty text (optional)\n",
    "df = df.filter(pl.col(\"text\").is_not_null() & (pl.col(\"text\").str.len_chars() > 0))\n",
    "print(\"After drop empty:\", df.shape)"
   ]
  },
  {
   "cell_type": "code",
   "execution_count": null,
   "id": "26ea6493",
   "metadata": {},
   "outputs": [
    {
     "name": "stdout",
     "output_type": "stream",
     "text": [
      "Corpus size: 13420\n"
     ]
    }
   ],
   "source": [
    "# Extract corpus\n",
    "corpus = df[\"text\"].to_list()\n",
    "print(\"Corpus size:\", len(corpus))"
   ]
  },
  {
   "cell_type": "code",
   "execution_count": null,
   "id": "fbf52767",
   "metadata": {},
   "outputs": [
    {
     "name": "stdout",
     "output_type": "stream",
     "text": [
      "TF-IDF shape: (13420, 2136)\n"
     ]
    }
   ],
   "source": [
    "from sklearn.feature_extraction.text import TfidfVectorizer\n",
    "\n",
    "# Reasonable defaults; tweak as needed\n",
    "vectorizer = TfidfVectorizer(\n",
    "    max_features=5000,  # cap vocab size (memory control)\n",
    "    stop_words=\"english\",  # English stopwords\n",
    "    min_df=3,  # ignore very rare terms\n",
    "    max_df=0.7,  # ignore overly common terms\n",
    "    ngram_range=(1, 2),  # unigrams + bigrams often help\n",
    ")\n",
    "X = vectorizer.fit_transform(corpus)\n",
    "\n",
    "print(\"TF-IDF shape:\", X.shape)  # (n_samples, n_features)"
   ]
  },
  {
   "cell_type": "code",
   "execution_count": null,
   "id": "ecf303ab",
   "metadata": {},
   "outputs": [
    {
     "data": {
      "text/html": [
       "<div><style>\n",
       ".dataframe > thead > tr,\n",
       ".dataframe > tbody > tr {\n",
       "  text-align: right;\n",
       "  white-space: pre-wrap;\n",
       "}\n",
       "</style>\n",
       "<small>shape: (5, 9)</small><table border=\"1\" class=\"dataframe\"><thead><tr><th>title_lc</th><th>company</th><th>location</th><th>seniority</th><th>work_type</th><th>posted_at</th><th>skills_list</th><th>text</th><th>cluster</th></tr><tr><td>str</td><td>str</td><td>str</td><td>str</td><td>str</td><td>datetime[μs]</td><td>list[str]</td><td>str</td><td>i32</td></tr></thead><tbody><tr><td>&quot;senior software engineer - bac…</td><td>&quot;Walmart&quot;</td><td>&quot;Reston, VA&quot;</td><td>&quot;Mid senior&quot;</td><td>&quot;Onsite&quot;</td><td>2024-01-15 00:00:00</td><td>[]</td><td>&quot;senior software engineer - bac…</td><td>0</td></tr><tr><td>&quot;lead software engineer, back e…</td><td>&quot;ClickJobs.io&quot;</td><td>&quot;Poughkeepsie, NY&quot;</td><td>&quot;Mid senior&quot;</td><td>&quot;Onsite&quot;</td><td>2024-01-14 00:00:00</td><td>[]</td><td>&quot;lead software engineer, back e…</td><td>3</td></tr><tr><td>&quot;asset &amp; wealth management- sen…</td><td>&quot;Goldman Sachs&quot;</td><td>&quot;New York, NY&quot;</td><td>&quot;Mid senior&quot;</td><td>&quot;Onsite&quot;</td><td>2024-01-15 00:00:00</td><td>[]</td><td>&quot;asset &amp; wealth management- sen…</td><td>0</td></tr><tr><td>&quot;senior software engineer, devo…</td><td>&quot;Jobs for Humanity&quot;</td><td>&quot;Atlantic City, NJ&quot;</td><td>&quot;Mid senior&quot;</td><td>&quot;Onsite&quot;</td><td>2024-01-14 00:00:00</td><td>[]</td><td>&quot;senior software engineer, devo…</td><td>0</td></tr><tr><td>&quot;principal software engineer, m…</td><td>&quot;Aurora&quot;</td><td>&quot;San Francisco, CA&quot;</td><td>&quot;Mid senior&quot;</td><td>&quot;Onsite&quot;</td><td>2024-01-14 00:00:00</td><td>[]</td><td>&quot;principal software engineer, m…</td><td>0</td></tr></tbody></table></div>"
      ],
      "text/plain": [
       "shape: (5, 9)\n",
       "┌────────────┬───────────┬───────────┬───────────┬───┬───────────┬───────────┬───────────┬─────────┐\n",
       "│ title_lc   ┆ company   ┆ location  ┆ seniority ┆ … ┆ posted_at ┆ skills_li ┆ text      ┆ cluster │\n",
       "│ ---        ┆ ---       ┆ ---       ┆ ---       ┆   ┆ ---       ┆ st        ┆ ---       ┆ ---     │\n",
       "│ str        ┆ str       ┆ str       ┆ str       ┆   ┆ datetime[ ┆ ---       ┆ str       ┆ i32     │\n",
       "│            ┆           ┆           ┆           ┆   ┆ μs]       ┆ list[str] ┆           ┆         │\n",
       "╞════════════╪═══════════╪═══════════╪═══════════╪═══╪═══════════╪═══════════╪═══════════╪═════════╡\n",
       "│ senior     ┆ Walmart   ┆ Reston,   ┆ Mid       ┆ … ┆ 2024-01-1 ┆ []        ┆ senior    ┆ 0       │\n",
       "│ software   ┆           ┆ VA        ┆ senior    ┆   ┆ 5         ┆           ┆ software  ┆         │\n",
       "│ engineer - ┆           ┆           ┆           ┆   ┆ 00:00:00  ┆           ┆ engineer  ┆         │\n",
       "│ bac…       ┆           ┆           ┆           ┆   ┆           ┆           ┆ - bac…    ┆         │\n",
       "│ lead       ┆ ClickJobs ┆ Poughkeep ┆ Mid       ┆ … ┆ 2024-01-1 ┆ []        ┆ lead      ┆ 3       │\n",
       "│ software   ┆ .io       ┆ sie, NY   ┆ senior    ┆   ┆ 4         ┆           ┆ software  ┆         │\n",
       "│ engineer,  ┆           ┆           ┆           ┆   ┆ 00:00:00  ┆           ┆ engineer, ┆         │\n",
       "│ back e…    ┆           ┆           ┆           ┆   ┆           ┆           ┆ back e…   ┆         │\n",
       "│ asset &    ┆ Goldman   ┆ New York, ┆ Mid       ┆ … ┆ 2024-01-1 ┆ []        ┆ asset &   ┆ 0       │\n",
       "│ wealth man ┆ Sachs     ┆ NY        ┆ senior    ┆   ┆ 5         ┆           ┆ wealth    ┆         │\n",
       "│ agement-   ┆           ┆           ┆           ┆   ┆ 00:00:00  ┆           ┆ managemen ┆         │\n",
       "│ sen…       ┆           ┆           ┆           ┆   ┆           ┆           ┆ t- sen…   ┆         │\n",
       "│ senior     ┆ Jobs for  ┆ Atlantic  ┆ Mid       ┆ … ┆ 2024-01-1 ┆ []        ┆ senior    ┆ 0       │\n",
       "│ software   ┆ Humanity  ┆ City, NJ  ┆ senior    ┆   ┆ 4         ┆           ┆ software  ┆         │\n",
       "│ engineer,  ┆           ┆           ┆           ┆   ┆ 00:00:00  ┆           ┆ engineer, ┆         │\n",
       "│ devo…      ┆           ┆           ┆           ┆   ┆           ┆           ┆ devo…     ┆         │\n",
       "│ principal  ┆ Aurora    ┆ San Franc ┆ Mid       ┆ … ┆ 2024-01-1 ┆ []        ┆ principal ┆ 0       │\n",
       "│ software   ┆           ┆ isco, CA  ┆ senior    ┆   ┆ 4         ┆           ┆ software  ┆         │\n",
       "│ engineer,  ┆           ┆           ┆           ┆   ┆ 00:00:00  ┆           ┆ engineer, ┆         │\n",
       "│ m…         ┆           ┆           ┆           ┆   ┆           ┆           ┆ m…        ┆         │\n",
       "└────────────┴───────────┴───────────┴───────────┴───┴───────────┴───────────┴───────────┴─────────┘"
      ]
     },
     "execution_count": 6,
     "metadata": {},
     "output_type": "execute_result"
    }
   ],
   "source": [
    "from sklearn.cluster import KMeans\n",
    "\n",
    "K = 6  # start with 6; adjust later\n",
    "kmeans = KMeans(n_clusters=K, random_state=42, n_init=\"auto\")\n",
    "labels = kmeans.fit_predict(X)\n",
    "\n",
    "# Attach cluster labels back to Polars DataFrame\n",
    "df_km = df.with_columns(pl.Series(\"cluster\", labels))\n",
    "df_km.head(5)"
   ]
  },
  {
   "cell_type": "code",
   "execution_count": null,
   "id": "e7e036c4",
   "metadata": {},
   "outputs": [
    {
     "data": {
      "text/html": [
       "<div><style>\n",
       ".dataframe > thead > tr,\n",
       ".dataframe > tbody > tr {\n",
       "  text-align: right;\n",
       "  white-space: pre-wrap;\n",
       "}\n",
       "</style>\n",
       "<small>shape: (6, 2)</small><table border=\"1\" class=\"dataframe\"><thead><tr><th>cluster</th><th>count</th></tr><tr><td>i32</td><td>u32</td></tr></thead><tbody><tr><td>0</td><td>6577</td></tr><tr><td>1</td><td>1311</td></tr><tr><td>2</td><td>1141</td></tr><tr><td>3</td><td>1355</td></tr><tr><td>4</td><td>1120</td></tr><tr><td>5</td><td>1916</td></tr></tbody></table></div>"
      ],
      "text/plain": [
       "shape: (6, 2)\n",
       "┌─────────┬───────┐\n",
       "│ cluster ┆ count │\n",
       "│ ---     ┆ ---   │\n",
       "│ i32     ┆ u32   │\n",
       "╞═════════╪═══════╡\n",
       "│ 0       ┆ 6577  │\n",
       "│ 1       ┆ 1311  │\n",
       "│ 2       ┆ 1141  │\n",
       "│ 3       ┆ 1355  │\n",
       "│ 4       ┆ 1120  │\n",
       "│ 5       ┆ 1916  │\n",
       "└─────────┴───────┘"
      ]
     },
     "execution_count": 7,
     "metadata": {},
     "output_type": "execute_result"
    }
   ],
   "source": [
    "# Cluster sizes\n",
    "sizes = df_km.group_by(\"cluster\").agg(pl.len().alias(\"count\")).sort(\"cluster\")\n",
    "sizes"
   ]
  },
  {
   "cell_type": "code",
   "execution_count": null,
   "id": "8f1bf42d",
   "metadata": {},
   "outputs": [
    {
     "name": "stdout",
     "output_type": "stream",
     "text": [
      "\n",
      "=== Cluster 0 ===\n"
     ]
    },
    {
     "data": {
      "text/html": [
       "<div><style>\n",
       ".dataframe > thead > tr,\n",
       ".dataframe > tbody > tr {\n",
       "  text-align: right;\n",
       "  white-space: pre-wrap;\n",
       "}\n",
       "</style>\n",
       "<small>shape: (5, 3)</small><table border=\"1\" class=\"dataframe\"><thead><tr><th>title_lc</th><th>company</th><th>location</th></tr><tr><td>str</td><td>str</td><td>str</td></tr></thead><tbody><tr><td>&quot;senior software engineer - bac…</td><td>&quot;Walmart&quot;</td><td>&quot;Reston, VA&quot;</td></tr><tr><td>&quot;asset &amp; wealth management- sen…</td><td>&quot;Goldman Sachs&quot;</td><td>&quot;New York, NY&quot;</td></tr><tr><td>&quot;senior software engineer, devo…</td><td>&quot;Jobs for Humanity&quot;</td><td>&quot;Atlantic City, NJ&quot;</td></tr><tr><td>&quot;principal software engineer, m…</td><td>&quot;Aurora&quot;</td><td>&quot;San Francisco, CA&quot;</td></tr><tr><td>&quot;sr software engineer - azure&quot;</td><td>&quot;Butlr&quot;</td><td>&quot;Cambridge, MA&quot;</td></tr></tbody></table></div>"
      ],
      "text/plain": [
       "shape: (5, 3)\n",
       "┌─────────────────────────────────┬───────────────────┬───────────────────┐\n",
       "│ title_lc                        ┆ company           ┆ location          │\n",
       "│ ---                             ┆ ---               ┆ ---               │\n",
       "│ str                             ┆ str               ┆ str               │\n",
       "╞═════════════════════════════════╪═══════════════════╪═══════════════════╡\n",
       "│ senior software engineer - bac… ┆ Walmart           ┆ Reston, VA        │\n",
       "│ asset & wealth management- sen… ┆ Goldman Sachs     ┆ New York, NY      │\n",
       "│ senior software engineer, devo… ┆ Jobs for Humanity ┆ Atlantic City, NJ │\n",
       "│ principal software engineer, m… ┆ Aurora            ┆ San Francisco, CA │\n",
       "│ sr software engineer - azure    ┆ Butlr             ┆ Cambridge, MA     │\n",
       "└─────────────────────────────────┴───────────────────┴───────────────────┘"
      ]
     },
     "metadata": {},
     "output_type": "display_data"
    },
    {
     "name": "stdout",
     "output_type": "stream",
     "text": [
      "\n",
      "=== Cluster 1 ===\n"
     ]
    },
    {
     "data": {
      "text/html": [
       "<div><style>\n",
       ".dataframe > thead > tr,\n",
       ".dataframe > tbody > tr {\n",
       "  text-align: right;\n",
       "  white-space: pre-wrap;\n",
       "}\n",
       "</style>\n",
       "<small>shape: (5, 3)</small><table border=\"1\" class=\"dataframe\"><thead><tr><th>title_lc</th><th>company</th><th>location</th></tr><tr><td>str</td><td>str</td><td>str</td></tr></thead><tbody><tr><td>&quot;senior software engineer&quot;</td><td>&quot;4Catalyzer&quot;</td><td>&quot;Guilford, CT&quot;</td></tr><tr><td>&quot;senior software engineer&quot;</td><td>&quot;WooliesX&quot;</td><td>&quot;Sydney, New South Wales, Austr…</td></tr><tr><td>&quot;senior software engineer&quot;</td><td>&quot;Index Exchange&quot;</td><td>&quot;Toronto, Ontario, Canada&quot;</td></tr><tr><td>&quot;senior software engineer&quot;</td><td>&quot;Matchtech&quot;</td><td>&quot;London, England, United Kingdo…</td></tr><tr><td>&quot;senior software engineer&quot;</td><td>&quot;GliaCell Technologies&quot;</td><td>&quot;Annapolis Junction, MD&quot;</td></tr></tbody></table></div>"
      ],
      "text/plain": [
       "shape: (5, 3)\n",
       "┌──────────────────────────┬───────────────────────┬─────────────────────────────────┐\n",
       "│ title_lc                 ┆ company               ┆ location                        │\n",
       "│ ---                      ┆ ---                   ┆ ---                             │\n",
       "│ str                      ┆ str                   ┆ str                             │\n",
       "╞══════════════════════════╪═══════════════════════╪═════════════════════════════════╡\n",
       "│ senior software engineer ┆ 4Catalyzer            ┆ Guilford, CT                    │\n",
       "│ senior software engineer ┆ WooliesX              ┆ Sydney, New South Wales, Austr… │\n",
       "│ senior software engineer ┆ Index Exchange        ┆ Toronto, Ontario, Canada        │\n",
       "│ senior software engineer ┆ Matchtech             ┆ London, England, United Kingdo… │\n",
       "│ senior software engineer ┆ GliaCell Technologies ┆ Annapolis Junction, MD          │\n",
       "└──────────────────────────┴───────────────────────┴─────────────────────────────────┘"
      ]
     },
     "metadata": {},
     "output_type": "display_data"
    },
    {
     "name": "stdout",
     "output_type": "stream",
     "text": [
      "\n",
      "=== Cluster 2 ===\n"
     ]
    },
    {
     "data": {
      "text/html": [
       "<div><style>\n",
       ".dataframe > thead > tr,\n",
       ".dataframe > tbody > tr {\n",
       "  text-align: right;\n",
       "  white-space: pre-wrap;\n",
       "}\n",
       "</style>\n",
       "<small>shape: (5, 3)</small><table border=\"1\" class=\"dataframe\"><thead><tr><th>title_lc</th><th>company</th><th>location</th></tr><tr><td>str</td><td>str</td><td>str</td></tr></thead><tbody><tr><td>&quot;senior data engineer&quot;</td><td>&quot;University of Chicago&quot;</td><td>&quot;Chicago, IL&quot;</td></tr><tr><td>&quot;lead data scientist&quot;</td><td>&quot;Dice&quot;</td><td>&quot;Atlanta, GA&quot;</td></tr><tr><td>&quot;senior data engineer, public c…</td><td>&quot;Recruiting from Scratch&quot;</td><td>&quot;St Louis, MO&quot;</td></tr><tr><td>&quot;data scientist&quot;</td><td>&quot;Belay Technologies&quot;</td><td>&quot;Annapolis Junction, MD&quot;</td></tr><tr><td>&quot;data scientist&quot;</td><td>&quot;Futran Solutions&quot;</td><td>&quot;Dallas, TX&quot;</td></tr></tbody></table></div>"
      ],
      "text/plain": [
       "shape: (5, 3)\n",
       "┌─────────────────────────────────┬─────────────────────────┬────────────────────────┐\n",
       "│ title_lc                        ┆ company                 ┆ location               │\n",
       "│ ---                             ┆ ---                     ┆ ---                    │\n",
       "│ str                             ┆ str                     ┆ str                    │\n",
       "╞═════════════════════════════════╪═════════════════════════╪════════════════════════╡\n",
       "│ senior data engineer            ┆ University of Chicago   ┆ Chicago, IL            │\n",
       "│ lead data scientist             ┆ Dice                    ┆ Atlanta, GA            │\n",
       "│ senior data engineer, public c… ┆ Recruiting from Scratch ┆ St Louis, MO           │\n",
       "│ data scientist                  ┆ Belay Technologies      ┆ Annapolis Junction, MD │\n",
       "│ data scientist                  ┆ Futran Solutions        ┆ Dallas, TX             │\n",
       "└─────────────────────────────────┴─────────────────────────┴────────────────────────┘"
      ]
     },
     "metadata": {},
     "output_type": "display_data"
    },
    {
     "name": "stdout",
     "output_type": "stream",
     "text": [
      "\n",
      "=== Cluster 3 ===\n"
     ]
    },
    {
     "data": {
      "text/html": [
       "<div><style>\n",
       ".dataframe > thead > tr,\n",
       ".dataframe > tbody > tr {\n",
       "  text-align: right;\n",
       "  white-space: pre-wrap;\n",
       "}\n",
       "</style>\n",
       "<small>shape: (5, 3)</small><table border=\"1\" class=\"dataframe\"><thead><tr><th>title_lc</th><th>company</th><th>location</th></tr><tr><td>str</td><td>str</td><td>str</td></tr></thead><tbody><tr><td>&quot;lead software engineer, back e…</td><td>&quot;ClickJobs.io&quot;</td><td>&quot;Poughkeepsie, NY&quot;</td></tr><tr><td>&quot;lead software engineer&quot;</td><td>&quot;The Depository Trust &amp; Clearin…</td><td>&quot;Tampa, FL&quot;</td></tr><tr><td>&quot;principal &amp; lead software engi…</td><td>&quot;Jobot&quot;</td><td>&quot;Hillsboro, OR&quot;</td></tr><tr><td>&quot;lead software engineer&quot;</td><td>&quot;ESPN&quot;</td><td>&quot;New York, NY&quot;</td></tr><tr><td>&quot;lead software engineer, full s…</td><td>&quot;Jobs for Humanity&quot;</td><td>&quot;Fredericksburg, VA&quot;</td></tr></tbody></table></div>"
      ],
      "text/plain": [
       "shape: (5, 3)\n",
       "┌─────────────────────────────────┬─────────────────────────────────┬────────────────────┐\n",
       "│ title_lc                        ┆ company                         ┆ location           │\n",
       "│ ---                             ┆ ---                             ┆ ---                │\n",
       "│ str                             ┆ str                             ┆ str                │\n",
       "╞═════════════════════════════════╪═════════════════════════════════╪════════════════════╡\n",
       "│ lead software engineer, back e… ┆ ClickJobs.io                    ┆ Poughkeepsie, NY   │\n",
       "│ lead software engineer          ┆ The Depository Trust & Clearin… ┆ Tampa, FL          │\n",
       "│ principal & lead software engi… ┆ Jobot                           ┆ Hillsboro, OR      │\n",
       "│ lead software engineer          ┆ ESPN                            ┆ New York, NY       │\n",
       "│ lead software engineer, full s… ┆ Jobs for Humanity               ┆ Fredericksburg, VA │\n",
       "└─────────────────────────────────┴─────────────────────────────────┴────────────────────┘"
      ]
     },
     "metadata": {},
     "output_type": "display_data"
    },
    {
     "name": "stdout",
     "output_type": "stream",
     "text": [
      "\n",
      "=== Cluster 4 ===\n"
     ]
    },
    {
     "data": {
      "text/html": [
       "<div><style>\n",
       ".dataframe > thead > tr,\n",
       ".dataframe > tbody > tr {\n",
       "  text-align: right;\n",
       "  white-space: pre-wrap;\n",
       "}\n",
       "</style>\n",
       "<small>shape: (5, 3)</small><table border=\"1\" class=\"dataframe\"><thead><tr><th>title_lc</th><th>company</th><th>location</th></tr><tr><td>str</td><td>str</td><td>str</td></tr></thead><tbody><tr><td>&quot;lead data engineer&quot;</td><td>&quot;Dice&quot;</td><td>&quot;Plano, TX&quot;</td></tr><tr><td>&quot;data engineer manager&quot;</td><td>&quot;Energy Jobline&quot;</td><td>&quot;Wolverhampton, England, United…</td></tr><tr><td>&quot;staff data engineer, fleet ana…</td><td>&quot;Tesla&quot;</td><td>&quot;Palo Alto, CA&quot;</td></tr><tr><td>&quot;senior data engineer - azure, …</td><td>&quot;Templeton and Partners - Tech …</td><td>&quot;London, England, United Kingdo…</td></tr><tr><td>&quot;lead data engineer, (python, j…</td><td>&quot;Dice&quot;</td><td>&quot;Philadelphia, PA&quot;</td></tr></tbody></table></div>"
      ],
      "text/plain": [
       "shape: (5, 3)\n",
       "┌────────────────────────────────────┬───────────────────────────────────┬─────────────────────────┐\n",
       "│ title_lc                           ┆ company                           ┆ location                │\n",
       "│ ---                                ┆ ---                               ┆ ---                     │\n",
       "│ str                                ┆ str                               ┆ str                     │\n",
       "╞════════════════════════════════════╪═══════════════════════════════════╪═════════════════════════╡\n",
       "│ lead data engineer                 ┆ Dice                              ┆ Plano, TX               │\n",
       "│ data engineer manager              ┆ Energy Jobline                    ┆ Wolverhampton, England, │\n",
       "│                                    ┆                                   ┆ United…                 │\n",
       "│ staff data engineer, fleet ana…    ┆ Tesla                             ┆ Palo Alto, CA           │\n",
       "│ senior data engineer - azure, …    ┆ Templeton and Partners - Tech …   ┆ London, England, United │\n",
       "│                                    ┆                                   ┆ Kingdo…                 │\n",
       "│ lead data engineer, (python, j…    ┆ Dice                              ┆ Philadelphia, PA        │\n",
       "└────────────────────────────────────┴───────────────────────────────────┴─────────────────────────┘"
      ]
     },
     "metadata": {},
     "output_type": "display_data"
    },
    {
     "name": "stdout",
     "output_type": "stream",
     "text": [
      "\n",
      "=== Cluster 5 ===\n"
     ]
    },
    {
     "data": {
      "text/html": [
       "<div><style>\n",
       ".dataframe > thead > tr,\n",
       ".dataframe > tbody > tr {\n",
       "  text-align: right;\n",
       "  white-space: pre-wrap;\n",
       "}\n",
       "</style>\n",
       "<small>shape: (5, 3)</small><table border=\"1\" class=\"dataframe\"><thead><tr><th>title_lc</th><th>company</th><th>location</th></tr><tr><td>str</td><td>str</td><td>str</td></tr></thead><tbody><tr><td>&quot;senior financial data analyst&quot;</td><td>&quot;The Walt Disney Company&quot;</td><td>&quot;Lake Buena Vista, FL&quot;</td></tr><tr><td>&quot;sr. workforce management data …</td><td>&quot;Wisemen Multimedia, LLC&quot;</td><td>&quot;Atlanta, GA&quot;</td></tr><tr><td>&quot;data analyst part time&quot;</td><td>&quot;Toyandsons&quot;</td><td>&quot;Waterloo, Ontario, Canada&quot;</td></tr><tr><td>&quot;contractor - epic clarity data…</td><td>&quot;Deloitte&quot;</td><td>&quot;Mississippi, United States&quot;</td></tr><tr><td>&quot;vcp design to value project ma…</td><td>&quot;GE HealthCare&quot;</td><td>&quot;Waukesha, WI&quot;</td></tr></tbody></table></div>"
      ],
      "text/plain": [
       "shape: (5, 3)\n",
       "┌─────────────────────────────────┬─────────────────────────┬────────────────────────────┐\n",
       "│ title_lc                        ┆ company                 ┆ location                   │\n",
       "│ ---                             ┆ ---                     ┆ ---                        │\n",
       "│ str                             ┆ str                     ┆ str                        │\n",
       "╞═════════════════════════════════╪═════════════════════════╪════════════════════════════╡\n",
       "│ senior financial data analyst   ┆ The Walt Disney Company ┆ Lake Buena Vista, FL       │\n",
       "│ sr. workforce management data … ┆ Wisemen Multimedia, LLC ┆ Atlanta, GA                │\n",
       "│ data analyst part time          ┆ Toyandsons              ┆ Waterloo, Ontario, Canada  │\n",
       "│ contractor - epic clarity data… ┆ Deloitte                ┆ Mississippi, United States │\n",
       "│ vcp design to value project ma… ┆ GE HealthCare           ┆ Waukesha, WI               │\n",
       "└─────────────────────────────────┴─────────────────────────┴────────────────────────────┘"
      ]
     },
     "metadata": {},
     "output_type": "display_data"
    }
   ],
   "source": [
    "# Show a couple example titles per cluster\n",
    "def show_examples(df_pl, cluster_id, n=5):\n",
    "    out = (\n",
    "        df_pl.filter(pl.col(\"cluster\") == cluster_id)\n",
    "        .select([\"title_lc\", \"company\", \"location\"])\n",
    "        .head(n)\n",
    "    )\n",
    "    return out\n",
    "\n",
    "\n",
    "for c in range(K):\n",
    "    print(f\"\\n=== Cluster {c} ===\")\n",
    "    display(show_examples(df_km, c, n=5))"
   ]
  },
  {
   "cell_type": "code",
   "execution_count": null,
   "id": "7a7e2a27",
   "metadata": {},
   "outputs": [
    {
     "name": "stdout",
     "output_type": "stream",
     "text": [
      "\n",
      "Cluster 0 top terms:\n",
      "['software', 'software engineer', 'senior', 'senior software', 'embedded', 'embedded software', 'sr', 'sr software', 'senior embedded', 'principal', 'principal software', 'iii', 'engineer iii', 'staff', 'security']\n",
      "\n",
      "Cluster 1 top terms:\n",
      "['senior software', 'senior', 'software', 'software engineer', 'engineer stack', 'stack', 'hybrid', 'based', 'onsite', 'iii', 'embedded', 'engineer medical', 'engineer level', 'engineer iot', 'engineer ip']\n",
      "\n",
      "Cluster 2 top terms:\n",
      "['data scientist', 'scientist', 'senior data', 'data', 'data engineer', 'senior', 'sr data', 'lead data', 'sr', 'engineer public', 'public company', 'company', 'public', 'lead', 'scientist senior']\n",
      "\n",
      "Cluster 3 top terms:\n",
      "['lead software', 'lead', 'engineer end', 'end', 'software engineer', 'software', 'engineer stack', 'stack', 'java', 'senior', 'aws', 'senior software', 'senior lead', 'python', 'end java']\n",
      "\n",
      "Cluster 4 top terms:\n",
      "['data engineer', 'data', 'lead data', 'lead', 'sr data', 'sr', 'senior data', 'senior', 'hybrid', 'staff data', 'python', 'engineer hybrid', 'senior lead', 'azure', 'staff']\n",
      "\n",
      "Cluster 5 top terms:\n",
      "['analyst', 'data analyst', 'data', 'senior data', 'senior', 'business', 'business data', 'sr data', 'sr', 'analyst data', 'marketing', 'research', 'research data', 'time', 'lead data']\n"
     ]
    }
   ],
   "source": [
    "# Get top TF-IDF terms nearest to each cluster centroid\n",
    "terms = vectorizer.get_feature_names_out()\n",
    "centers = kmeans.cluster_centers_\n",
    "\n",
    "\n",
    "def top_terms_for_cluster(cluster_idx, topn=15):\n",
    "    idxs = np.argsort(centers[cluster_idx])[::-1][:topn]\n",
    "    return [terms[j] for j in idxs]\n",
    "\n",
    "\n",
    "for c in range(K):\n",
    "    print(f\"\\nCluster {c} top terms:\")\n",
    "    print(top_terms_for_cluster(c, topn=15))"
   ]
  },
  {
   "cell_type": "code",
   "execution_count": null,
   "id": "6ee69472",
   "metadata": {},
   "outputs": [
    {
     "data": {
      "image/png": "[encoded data removed]",
      "text/plain": [
       "<Figure size 640x480 with 1 Axes>"
      ]
     },
     "metadata": {},
     "output_type": "display_data"
    }
   ],
   "source": [
    "cluster_to_plot = 0  # change to 1..K-1 to inspect others\n",
    "topn = 12\n",
    "\n",
    "idxs = np.argsort(centers[cluster_to_plot])[::-1][:topn]\n",
    "top_words = [terms[j] for j in idxs]\n",
    "top_scores = centers[cluster_to_plot][idxs]\n",
    "\n",
    "plt.figure()\n",
    "plt.barh(range(topn), top_scores[::-1])  # horizontal bar, reversed for top at top\n",
    "plt.yticks(range(topn), top_words[::-1])\n",
    "plt.title(f\"Cluster {cluster_to_plot} — top {topn} TF-IDF terms\")\n",
    "plt.tight_layout()\n",
    "plt.show()"
   ]
  },
  {
   "cell_type": "code",
   "execution_count": null,
   "id": "3cb1903d",
   "metadata": {},
   "outputs": [
    {
     "name": "stdout",
     "output_type": "stream",
     "text": [
      "Silhouette score (cosine): 0.0919\n"
     ]
    }
   ],
   "source": [
    "# Silhouette can be expensive; use a random subset if needed\n",
    "from sklearn.metrics import silhouette_score\n",
    "from sklearn.utils import resample\n",
    "\n",
    "if X.shape[0] > 20000:\n",
    "    # sample 20k for speed\n",
    "    sample_size = 20_000\n",
    "    idx = np.random.default_rng(42).choice(X.shape[0], size=sample_size, replace=False)\n",
    "    X_s = X[idx]\n",
    "    y_s = np.array(labels)[idx]\n",
    "else:\n",
    "    X_s, y_s = X, labels\n",
    "\n",
    "score = silhouette_score(X_s, y_s, metric=\"cosine\")\n",
    "print(\"Silhouette score (cosine):\", round(score, 4))"
   ]
  },
  {
   "cell_type": "code",
   "execution_count": null,
   "id": "70b04cef",
   "metadata": {},
   "outputs": [
    {
     "name": "stdout",
     "output_type": "stream",
     "text": [
      "K=4 inertia=10600.21\n",
      "K=5 inertia=10336.82\n",
      "K=6 inertia=10066.83\n",
      "K=7 inertia=10162.51\n",
      "K=8 inertia=10129.72\n",
      "K=10 inertia=10081.72\n"
     ]
    },
    {
     "data": {
      "image/png": "[encoded data removed]",
      "text/plain": [
       "<Figure size 640x480 with 1 Axes>"
      ]
     },
     "metadata": {},
     "output_type": "display_data"
    }
   ],
   "source": [
    "# This loops multiple K and plots inertia to help choose K\n",
    "Ks = [4, 5, 6, 7, 8, 10]\n",
    "inertias = []\n",
    "for k in Ks:\n",
    "    m = KMeans(n_clusters=k, random_state=42, n_init=\"auto\")\n",
    "    m.fit(X)\n",
    "    inertias.append(m.inertia_)\n",
    "    print(f\"K={k} inertia={m.inertia_:.2f}\")\n",
    "\n",
    "plt.figure()\n",
    "plt.plot(Ks, inertias, marker=\"o\")\n",
    "plt.xticks(Ks)\n",
    "plt.xlabel(\"K\")\n",
    "plt.ylabel(\"Inertia (lower is better)\")\n",
    "plt.title(\"Elbow method (TF-IDF + KMeans)\")\n",
    "plt.show()"
   ]
  }
 ],
 "metadata": {
  "kernelspec": {
   "display_name": "mids-de-311",
   "language": "python",
   "name": "python3"
  },
  "language_info": {
   "codemirror_mode": {
    "name": "ipython",
    "version": 3
   },
   "file_extension": ".py",
   "mimetype": "text/x-python",
   "name": "python",
   "nbconvert_exporter": "python",
   "pygments_lexer": "ipython3",
   "version": "3.11.13"
  }
 },
 "nbformat": 4,
 "nbformat_minor": 5
}
